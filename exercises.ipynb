{
 "cells": [
  {
   "cell_type": "code",
   "execution_count": null,
   "metadata": {},
   "outputs": [],
   "source": [
    "import numpy as np\n",
    "import matplotlib.pyplot as plt"
   ]
  },
  {
   "cell_type": "markdown",
   "metadata": {},
   "source": [
    "# Exercise 3.1"
   ]
  },
  {
   "cell_type": "code",
   "execution_count": null,
   "metadata": {},
   "outputs": [],
   "source": [
    "x = np.linspace(0,1,100)\n",
    "x1 = np.linspace(0,0.5,50)\n",
    "x2 = np.linspace(0.5,1,50)\n",
    "z = np.zeros(50)\n",
    "y = x*(x**2-3*x+3)/6\n",
    "\n",
    "\n",
    "#N = [[1-x1,z],[2*x1,(2-2*x2)],[z,2*x2-1]]\n",
    "Ns = [np.concatenate((1-x1,z), axis=0),np.concatenate((2*x1,(2-2*x2)), axis=0),np.concatenate((z,2*x2-1), axis=0)]\n",
    "k = np.matrix([[-2,2,0],[2,0,2],[0,-2,2]])\n",
    "f = np.array([5/24,1/4,1/24])\n",
    "phi = np.linalg.solve(k,f)\n",
    "\n",
    "phiT = np.zeros(100)\n",
    "\n",
    "for i,v in enumerate(Ns):\n",
    "    phiT += phi[i]*v\n",
    "\n",
    "\n",
    "plt.plot(x,y)\n",
    "plt.plot(x,phiT)\n",
    "plt.show()\n"
   ]
  },
  {
   "cell_type": "markdown",
   "metadata": {},
   "source": [
    "# Exercise 3.2"
   ]
  },
  {
   "cell_type": "code",
   "execution_count": null,
   "metadata": {},
   "outputs": [],
   "source": [
    "def S(x):\n",
    "    return 1-x\n",
    "\n",
    "def stiffness(nodes):\n",
    "    return 1/(nodes[-1]-nodes[0])*np.array([[1,-1],[-1,1]])\n",
    "\n",
    "def force(nodes,S):\n",
    "    return ((nodes[-1]-nodes[0])/6)*np.array([2*S(nodes[0])+S(nodes[-1]),S(nodes[0])+2*S(nodes[-1])])\n",
    "\n",
    "def solver(S,Ne,alpha,beta,even_grid=True):\n",
    "    if even_grid:\n",
    "        nodes=np.linspace(0,1,Ne+1)\n",
    "    else:\n",
    "        nodes = np.array([0, *sorted(np.random.rand(Ne-1)), 1])\n",
    "\n",
    "    LM = np.zeros((2, Ne), dtype=np.int64)\n",
    "    for e in range(Ne):\n",
    "        if e==0:\n",
    "            LM[0, e] = -1\n",
    "            LM[1, e] = 0\n",
    "        else:\n",
    "            LM[0, e] = LM[1, e-1]\n",
    "            LM[1, e] = LM[0, e] + 1\n",
    "\n",
    "    K = np.zeros((Ne, Ne))\n",
    "    F = np.zeros((Ne,))\n",
    "\n",
    "    for e in range(Ne):\n",
    "        k_e = stiffness(nodes[e:e+2])\n",
    "        f_e = force(nodes[e:e+2],S)\n",
    "        \n",
    "        for a in range(2):\n",
    "            A = LM[a, e]\n",
    "            \n",
    "            for b in range(2):\n",
    "                B = LM[b, e]\n",
    "                if (A >= 0) and (B >= 0):\n",
    "                    K[A, B] += k_e[a, b]\n",
    "            if (A >= 0):\n",
    "                F[A] += f_e[a]\n",
    "        # Modify force vector for Dirichlet BC\n",
    "        if e == 0:\n",
    "            F[0] -= alpha * k_e[1, 0]\n",
    "    # Modify force vector for Neumann BC\n",
    "    F[-1] += beta\n",
    "    # Solve\n",
    "    Psi_A = np.zeros_like(nodes)\n",
    "    Psi_A[0] = alpha\n",
    "    Psi_A[1:] = np.linalg.solve(K, F)\n",
    "\n",
    "    # print(F)\n",
    "    # print(K)\n",
    "\n",
    "    return nodes, Psi_A\n",
    "\n",
    "def linear(x,m,c):\n",
    "    return m*x+c\n",
    "\n",
    "def L2_norm_error(pred,aim,x):\n",
    "    return np.sqrt(((pred[-1]-aim(x))**2))/np.sqrt((aim(x)**2))\n",
    "\n",
    "def order_of_convergence(analytical,S,alpha,beta,Ns=[10,40,80,160]):\n",
    "    Psis=[]\n",
    "    L2_norms=[]\n",
    "    Ns=np.array(Ns)\n",
    "    for N in Ns:\n",
    "        nodes,Psi_N=solver(S,N,alpha,beta)\n",
    "        Psis.append(Psi_N)\n",
    "        L2_norms.append(L2_norm_error(Psi_N,analytical,nodes[-1]))\n",
    "    \n",
    "    m,c=np.polyfit(np.log(Ns),np.log(L2_norms),1)\n",
    "\n",
    "    plt.loglog(Ns,(m*Ns)/5E15,'o-',label='m='+str(round(m,3)))\n",
    "    plt.loglog(Ns,L2_norms,'o-',label='L2 error')\n",
    "    plt.legend()\n",
    "    plt.grid(which='both',alpha=.6)\n",
    "    plt.show()\n"
   ]
  },
  {
   "cell_type": "code",
   "execution_count": null,
   "metadata": {},
   "outputs": [],
   "source": [
    "def ana(x):\n",
    "    return x*(x**2-3*x+3)/6\n",
    "\n",
    "alpha=0\n",
    "beta=0\n",
    "Ne = 10\n",
    "x,y=solver(S,Ne,alpha,beta)\n",
    "\n",
    "x_ana=np.linspace(0,1,100)\n",
    "y_ana=ana(x_ana)\n",
    "plt.plot(x_ana,y_ana,label='analytical')\n",
    "plt.plot(x,y,'o-',label='even grid')\n",
    "\n",
    "x,y=solver(S,Ne,alpha,beta,False)\n",
    "plt.plot(x,y,'o-',label='uneven grid')\n",
    "\n",
    "plt.legend()\n",
    "plt.show()\n",
    "\n",
    "order_of_convergence(ana,S,alpha,beta)"
   ]
  },
  {
   "cell_type": "code",
   "execution_count": null,
   "metadata": {},
   "outputs": [],
   "source": [
    "def ana1(x):\n",
    "    return x*(4-6*x+4*x**2-x**3)/12\n",
    "\n",
    "x_ana=np.linspace(0,1,100)\n",
    "y_ana=x_ana*(4-6*x_ana+4*x_ana**2-x_ana**3)/12\n",
    "\n",
    "def S1(x):\n",
    "    return (1-x)**2\n",
    "\n",
    "alpha=0\n",
    "beta=0\n",
    "Ne = 10\n",
    "x,y=solver(S1,Ne,alpha,beta)\n",
    "\n",
    "plt.plot(x_ana,y_ana,label='analytical')\n",
    "plt.plot(x,y,'o-',label='even grid')\n",
    "\n",
    "x,y=solver(S1,Ne,alpha,beta,False)\n",
    "plt.plot(x,y,'o-',label='uneven grid')\n",
    "\n",
    "plt.legend()\n",
    "plt.show()\n",
    "\n",
    "order_of_convergence(ana1,S1,alpha,beta)"
   ]
  },
  {
   "cell_type": "code",
   "execution_count": null,
   "metadata": {},
   "outputs": [],
   "source": [
    "x_ana=np.linspace(0,1,100)\n",
    "y_ana=np.zeros(len(x_ana))\n",
    "\n",
    "def psi_ana(x):\n",
    "    if x<.25:\n",
    "        return .3*x+.1\n",
    "    elif .25<x<.75:\n",
    "        return -.5*x**2+.55*x+11/160\n",
    "    elif x>.75:\n",
    "        return -.2*x+.35\n",
    "    \n",
    "for i,v in enumerate(x_ana):\n",
    "    y_ana[i]=psi_ana(v)\n",
    "\n",
    "def S2(x):\n",
    "    if abs(x-.5)<.25:\n",
    "        return 1\n",
    "    else:\n",
    "        return 0\n",
    "\n",
    "alpha=.1\n",
    "beta=-.2\n",
    "Ne = 30\n",
    "x,y=solver(S2,Ne,alpha,beta)\n",
    "\n",
    "plt.plot(x_ana,y_ana,label='analytical')\n",
    "plt.plot(x,y,'o-',label='even grid')\n",
    "\n",
    "x,y=solver(S2,Ne,alpha,beta,False)\n",
    "plt.plot(x,y,'o-',label='uneven grid')\n",
    "\n",
    "plt.legend()\n",
    "plt.show()\n",
    "\n",
    "order_of_convergence(psi_ana,S2,alpha,beta)"
   ]
  },
  {
   "cell_type": "markdown",
   "metadata": {},
   "source": [
    "# 4.3 Algorithm"
   ]
  },
  {
   "cell_type": "code",
   "execution_count": null,
   "metadata": {},
   "outputs": [],
   "source": [
    "def stiffness_2d(nodes):\n",
    "    return 1/(nodes[-1]-nodes[0])*np.array([[1,-1,1],[-1,1,-1],[1,-1,1]])\n",
    "\n",
    "def force_2d(nodes,S):\n",
    "    return"
   ]
  },
  {
   "cell_type": "code",
   "execution_count": null,
   "metadata": {},
   "outputs": [],
   "source": [
    "def ians_example():    \n",
    "    nodes = np.loadtxt('data/esw_nodes_50k.txt')\n",
    "    IEN = np.loadtxt('data/esw_IEN_50k.txt', \n",
    "                    dtype=np.int64)\n",
    "    boundary_nodes = np.loadtxt('data/esw_bdry_50k.txt', \n",
    "                                dtype=np.int64)\n",
    "    # Make all boundary points Dirichlet\n",
    "    ID = np.zeros(len(nodes), dtype=np.int64)\n",
    "    n_eq = 0\n",
    "    for i in range(len(nodes[:, 1])):\n",
    "        if i in boundary_nodes:\n",
    "            ID[i] = -1\n",
    "        else:\n",
    "            ID[i] = n_eq\n",
    "            n_eq += 1\n",
    "    N_equations = np.max(ID)+1\n",
    "    N_elements = IEN.shape[0]\n",
    "    N_nodes = nodes.shape[0]\n",
    "    N_dim = nodes.shape[1]\n",
    "    # Location matrix\n",
    "    LM = np.zeros_like(IEN.T)\n",
    "    for e in range(N_elements):\n",
    "        for a in range(3):\n",
    "            LM[a,e] = ID[IEN[e,a]]\n",
    "    # Global stiffness matrix and force vector\n",
    "    K = np.zeros((N_equations, N_equations))\n",
    "    F = np.zeros((N_equations,))\n",
    "    # Loop over elements\n",
    "    for e in range(N_elements):\n",
    "        k_e = stiffness_2d(nodes[IEN[e,:],:])\n",
    "        f_e = force_2d(nodes[IEN[e,:],:], S)\n",
    "        for a in range(3):\n",
    "            A = LM[a, e]\n",
    "            for b in range(3):\n",
    "                B = LM[b, e]\n",
    "                if (A >= 0) and (B >= 0):\n",
    "                    K[A, B] += k_e[a, b]\n",
    "            if (A >= 0):\n",
    "                F[A] += f_e[a]\n",
    "    # Solve\n",
    "    Psi_interior = np.linalg.solve(K, F)\n",
    "    Psi_A = np.zeros(N_nodes)\n",
    "    for n in range(N_nodes):\n",
    "        if ID[n] >= 0: # Otherwise Psi should be zero, and we've initialized that already.\n",
    "            Psi_A[n] = Psi_interior[ID[n]]\n",
    "    return Psi_A"
   ]
  },
  {
   "cell_type": "code",
   "execution_count": 15,
   "metadata": {},
   "outputs": [
    {
     "data": {
      "text/plain": [
       "array([-1,  1,  1])"
      ]
     },
     "execution_count": 15,
     "metadata": {},
     "output_type": "execute_result"
    }
   ],
   "source": [
    "def shape_functions(xi):\n",
    "    return np.array([1-xi[0]-xi[1], xi[0], xi[1]])\n",
    "\n",
    "shape_functions([1,1])"
   ]
  },
  {
   "cell_type": "code",
   "execution_count": 26,
   "metadata": {},
   "outputs": [
    {
     "data": {
      "text/plain": [
       "array([[-1,  1,  0],\n",
       "       [-1,  0,  1]])"
      ]
     },
     "execution_count": 26,
     "metadata": {},
     "output_type": "execute_result"
    }
   ],
   "source": [
    "def div_xi_shape_functions():\n",
    "    return np.array([[-1,1,0],[-1,0,1]])\n",
    "\n",
    "div_xi_shape_functions()"
   ]
  },
  {
   "cell_type": "code",
   "execution_count": 38,
   "metadata": {},
   "outputs": [
    {
     "data": {
      "text/plain": [
       "array([[-1,  9,  1],\n",
       "       [-1,  1,  1]])"
      ]
     },
     "execution_count": 38,
     "metadata": {},
     "output_type": "execute_result"
    }
   ],
   "source": [
    "def global_x(xi,nodal_x):\n",
    "    x=np.zeros_like(nodal_x)\n",
    "    N=shape_functions(xi)\n",
    "    x[0]+=nodal_x[0]*N\n",
    "    x[1]+=nodal_x[1]*N\n",
    "    return x\n",
    "\n",
    "global_x([1,1],np.array([[1,9,1],[1,1,1]]))"
   ]
  },
  {
   "cell_type": "code",
   "execution_count": 44,
   "metadata": {},
   "outputs": [
    {
     "data": {
      "text/plain": [
       "array([[10.,  2.],\n",
       "       [ 2.,  2.]])"
      ]
     },
     "execution_count": 44,
     "metadata": {},
     "output_type": "execute_result"
    }
   ],
   "source": [
    "def jacobian(xi,nodal_x):\n",
    "    J=np.zeros([2,2])\n",
    "    for a in range(2): #x or y\n",
    "        for b in range(2): #xi 1 or 2\n",
    "            for c in range(3): #x^e 1, 2 or 3\n",
    "                J[a,b]+=global_x(xi,nodal_x)[a,c]*div_xi_shape_functions()[b,c]\n",
    "    return J \n",
    "\n",
    "jacobian([1,1],np.array([[1,9,1],[1,1,1]]))"
   ]
  },
  {
   "cell_type": "code",
   "execution_count": 41,
   "metadata": {},
   "outputs": [
    {
     "data": {
      "text/plain": [
       "np.float64(16.0)"
      ]
     },
     "execution_count": 41,
     "metadata": {},
     "output_type": "execute_result"
    }
   ],
   "source": [
    "def det_J(J):\n",
    "    return J[0,0]*J[1,1]-J[0,1]*J[1,0]\n",
    "\n",
    "det_J(jacobian([1,1],np.array([[1,9,1],[1,1,1]])))"
   ]
  },
  {
   "cell_type": "code",
   "execution_count": null,
   "metadata": {},
   "outputs": [
    {
     "data": {
      "text/plain": [
       "array([[ 0.   ,  0.125, -0.125],\n",
       "       [-0.5  , -0.125,  0.625]])"
      ]
     },
     "execution_count": 45,
     "metadata": {},
     "output_type": "execute_result"
    }
   ],
   "source": [
    "def div_x_shape_functions(xi,x):\n",
    "    dNxi=div_xi_shape_functions()\n",
    "    J_inv=np.linalg.inv(jacobian(xi,x))\n",
    "    return J_inv @ dNxi\n",
    "\n",
    "div_x_shape_functions([1,1],np.array([[1,9,1],[1,1,1]]))"
   ]
  },
  {
   "cell_type": "code",
   "execution_count": null,
   "metadata": {},
   "outputs": [],
   "source": [
    "def integrate_phi(phi,xi,x_nodal):\n",
    "    x=global_x(xi,x_nodal)\n",
    "    return (det_J(jacobian(xi,x_nodal)))*phi(x)*(1-xi[1])"
   ]
  },
  {
   "cell_type": "code",
   "execution_count": null,
   "metadata": {},
   "outputs": [],
   "source": [
    "def integrate_psi(psi):\n",
    "    inte_psi=0\n",
    "    xi=np.array([[1/3,4/6,1/6],[1/6,1/6,4/6]])\n",
    "    for j in range(3):\n",
    "        inte_psi+=psi(global_x(xi[0,j],xi[1,j])[0],global_x(xi[0,j],xi[1,j])[0])\n",
    "    return inte_psi/6"
   ]
  },
  {
   "cell_type": "code",
   "execution_count": null,
   "metadata": {},
   "outputs": [],
   "source": [
    "def stiffness_2d(nodes):\n",
    "    div = div_x_shape_functions(nodes)\n",
    "    return (div[0,0]*div[0,1]+div[1,0]*div[1,1])*()\n",
    "\n",
    "def find_K():\n",
    "    nodes = np.loadtxt('data/ews_nodes_s5k_lc50k.txt')\n",
    "    IEN = np.loadtxt('data/ews_IEN_s5k_lc50k.txt', dtype=np.int64)\n",
    "    ID = np.zeros(len(nodes), dtype=np.int64)\n",
    "    boundary_nodes = np.loadtxt('data/esw_bdry_50k.txt', \n",
    "                                dtype=np.int64)\n",
    "    n_eq = 0\n",
    "    for i in range(len(nodes[:, 1])):\n",
    "        if i in boundary_nodes:\n",
    "            ID[i] = -1\n",
    "        else:\n",
    "            ID[i] = n_eq\n",
    "            n_eq += 1\n",
    "    N_equations = np.max(ID)+1\n",
    "    N_elements = IEN.shape[0]\n",
    "    LM = np.zeros_like(IEN.T)\n",
    "    for e in range(N_elements):\n",
    "        for a in range(3):\n",
    "            LM[a,e] = ID[IEN[e,a]]\n",
    "    # Global stiffness matrix and force vector\n",
    "    K = np.zeros((N_equations, N_equations))\n",
    "    # Loop over elements\n",
    "    for e in range(N_elements):\n",
    "        k_e = stiffness_2d(nodes[IEN[e,:],:])\n",
    "        for a in range(3):\n",
    "            A = LM[a, e]\n",
    "            for b in range(3):\n",
    "                B = LM[b, e]\n",
    "                if (A >= 0) and (B >= 0):\n",
    "                    K[A, B] += k_e[a, b]\n",
    "    return K"
   ]
  },
  {
   "cell_type": "code",
   "execution_count": null,
   "metadata": {},
   "outputs": [],
   "source": [
    "def force_2d(nodes,S):\n",
    "    div = div_x_shape_functions(nodes)\n",
    "    f = 0\n",
    "    for b in range(2):\n",
    "        f += div[b,:]*S(nodes)*()\n",
    "    return f\n",
    "\n",
    "def find_F(S):\n",
    "    nodes = np.loadtxt('data/esw_nodes_50k.txt')\n",
    "    IEN = np.loadtxt('data/esw_IEN_50k.txt', \n",
    "                    dtype=np.int64)\n",
    "    boundary_nodes = np.loadtxt('data/esw_bdry_50k.txt', \n",
    "                                dtype=np.int64)\n",
    "    # Make all boundary points Dirichlet\n",
    "    ID = np.zeros(len(nodes), dtype=np.int64)\n",
    "    n_eq = 0\n",
    "    for i in range(len(nodes[:, 1])):\n",
    "        if i in boundary_nodes:\n",
    "            ID[i] = -1\n",
    "        else:\n",
    "            ID[i] = n_eq\n",
    "            n_eq += 1\n",
    "    N_equations = np.max(ID)+1\n",
    "    N_elements = IEN.shape[0]\n",
    "    # Location matrix\n",
    "    LM = np.zeros_like(IEN.T)\n",
    "    for e in range(N_elements):\n",
    "        for a in range(3):\n",
    "            LM[a,e] = ID[IEN[e,a]]\n",
    "    # Global stiffness matrix and force vector\n",
    "    F = np.zeros((N_equations,))\n",
    "    # Loop over elements\n",
    "    for e in range(N_elements):\n",
    "        f_e = force_2d(nodes[IEN[e,:],:], S)\n",
    "        for a in range(3):\n",
    "            A = LM[a, e]\n",
    "            if (A >= 0):\n",
    "                F[A] += f_e[a]"
   ]
  },
  {
   "cell_type": "code",
   "execution_count": null,
   "metadata": {},
   "outputs": [],
   "source": []
  }
 ],
 "metadata": {
  "kernelspec": {
   "display_name": "Python 3",
   "language": "python",
   "name": "python3"
  },
  "language_info": {
   "codemirror_mode": {
    "name": "ipython",
    "version": 3
   },
   "file_extension": ".py",
   "mimetype": "text/x-python",
   "name": "python",
   "nbconvert_exporter": "python",
   "pygments_lexer": "ipython3",
   "version": "3.12.1"
  }
 },
 "nbformat": 4,
 "nbformat_minor": 2
}
