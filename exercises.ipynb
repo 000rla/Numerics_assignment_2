{
 "cells": [
  {
   "cell_type": "markdown",
   "metadata": {},
   "source": [
    "# Exercise 3.2"
   ]
  },
  {
   "cell_type": "code",
   "execution_count": 2,
   "metadata": {},
   "outputs": [],
   "source": [
    "import numpy as np\n",
    "import matplotlib.pyplot as plt\n"
   ]
  },
  {
   "cell_type": "code",
   "execution_count": null,
   "metadata": {},
   "outputs": [],
   "source": [
    "N_elements=5\n",
    "K=np.zeros((N_elements,N_elements))\n",
    "F=np.zeros(N_elements)\n",
    "# A=[0,1,2]\n",
    "x_A=np.linspace(0,N_elements-1,N_elements)\n",
    "S=1-x_A\n",
    "\n",
    "LM = np.zeros((2, N_elements), dtype=np.int64)\n",
    "for e in range(N_elements):\n",
    "    for a in [1,2]:\n",
    "        for b in [1,2]:\n",
    "            k_e=(-1)**(a+b)/(x_A[e+1]-x_A[e])\n",
    "            f_e=(x_A[e+1]-x_A[e])/6*np.array()\n",
    "    if e==0:\n",
    "        # Treat first element differently due to BC\n",
    "        LM[0, e] = -1 # Left hand node of first element\n",
    "        # is not considered thanks to BC.\n",
    "        LM[1, e] = 0 # the first equation\n",
    "    else:\n",
    "        # Left node of this element is\n",
    "        # right node of previous element\n",
    "        LM[0, e] = LM[1, e-1]\n",
    "        LM[1, e] = LM[0, e] + 1\n",
    "\n",
    "BV={'alpha':1,\n",
    "'beta':2}\n",
    "\n",
    "\n",
    "\n",
    "\n",
    "\n",
    "# S=1-x_A"
   ]
  },
  {
   "cell_type": "code",
   "execution_count": 24,
   "metadata": {},
   "outputs": [
    {
     "name": "stdout",
     "output_type": "stream",
     "text": [
      "[0. 1. 2. 3. 4.]\n"
     ]
    }
   ],
   "source": [
    "print(x_A)"
   ]
  },
  {
   "cell_type": "code",
   "execution_count": 25,
   "metadata": {},
   "outputs": [
    {
     "ename": "NameError",
     "evalue": "name 'stiffness' is not defined",
     "output_type": "error",
     "traceback": [
      "\u001b[0;31m---------------------------------------------------------------------------\u001b[0m",
      "\u001b[0;31mNameError\u001b[0m                                 Traceback (most recent call last)",
      "Cell \u001b[0;32mIn[25], line 14\u001b[0m\n\u001b[1;32m     12\u001b[0m F \u001b[38;5;241m=\u001b[39m np\u001b[38;5;241m.\u001b[39mzeros((Ne,))\n\u001b[1;32m     13\u001b[0m \u001b[38;5;28;01mfor\u001b[39;00m e \u001b[38;5;129;01min\u001b[39;00m \u001b[38;5;28mrange\u001b[39m(Ne):\n\u001b[0;32m---> 14\u001b[0m     k_e \u001b[38;5;241m=\u001b[39m \u001b[43mstiffness\u001b[49m(nodes[e:e\u001b[38;5;241m+\u001b[39m\u001b[38;5;241m2\u001b[39m])\n\u001b[1;32m     15\u001b[0m     f_e \u001b[38;5;241m=\u001b[39m force(nodes[e:e\u001b[38;5;241m+\u001b[39m\u001b[38;5;241m2\u001b[39m], S)\n\u001b[1;32m     16\u001b[0m     \u001b[38;5;28;01mfor\u001b[39;00m a \u001b[38;5;129;01min\u001b[39;00m \u001b[38;5;28mrange\u001b[39m(\u001b[38;5;241m2\u001b[39m):\n",
      "\u001b[0;31mNameError\u001b[0m: name 'stiffness' is not defined"
     ]
    }
   ],
   "source": [
    "Ne = 10\n",
    "nodes = np.array([0, *sorted(np.random.rand(Ne-1)), 1])\n",
    "LM = np.zeros((2, Ne), dtype=np.int64)\n",
    "for e in range(Ne):\n",
    "    if e==0:\n",
    "        LM[0, e] = -1\n",
    "        LM[1, e] = 0\n",
    "    else:\n",
    "        LM[0, e] = LM[1, e-1]\n",
    "        LM[1, e] = LM[0, e] + 1\n",
    "K = np.zeros((Ne, Ne))\n",
    "F = np.zeros((Ne,))\n",
    "for e in range(Ne):\n",
    "    k_e = stiffness(nodes[e:e+2])\n",
    "    f_e = force(nodes[e:e+2], S)\n",
    "    for a in range(2):\n",
    "        A = LM[a, e]\n",
    "        for b in range(2):\n",
    "            B = LM[b, e]\n",
    "            if (A >= 0) and (B >= 0):\n",
    "                K[A, B] += k_e[a, b]\n",
    "        if (A >= 0):\n",
    "            F[A] += f_e[a]\n",
    "    # Modify force vector for Dirichlet BC\n",
    "    if e == 0:\n",
    "        F[0] -= alpha * k_e[1, 0]\n",
    "# Modify force vector for Neumann BC\n",
    "F[-1] += beta\n",
    "# Solve\n",
    "Psi_A = np.zeros_like(nodes)\n",
    "Psi_A[0] = alpha\n",
    "Psi_A[1:] = np.linalg.solve(K, F)"
   ]
  },
  {
   "cell_type": "code",
   "execution_count": null,
   "metadata": {},
   "outputs": [],
   "source": []
  }
 ],
 "metadata": {
  "kernelspec": {
   "display_name": "Python 3",
   "language": "python",
   "name": "python3"
  },
  "language_info": {
   "codemirror_mode": {
    "name": "ipython",
    "version": 3
   },
   "file_extension": ".py",
   "mimetype": "text/x-python",
   "name": "python",
   "nbconvert_exporter": "python",
   "pygments_lexer": "ipython3",
   "version": "3.12.1"
  }
 },
 "nbformat": 4,
 "nbformat_minor": 2
}
