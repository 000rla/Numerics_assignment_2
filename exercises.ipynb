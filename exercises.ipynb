{
 "cells": [
  {
   "cell_type": "code",
   "execution_count": 2,
   "metadata": {},
   "outputs": [],
   "source": [
    "import numpy as np\n",
    "import matplotlib.pyplot as plt"
   ]
  },
  {
   "cell_type": "markdown",
   "metadata": {},
   "source": [
    "# Exercise 3.1"
   ]
  },
  {
   "cell_type": "code",
   "execution_count": null,
   "metadata": {},
   "outputs": [],
   "source": [
    "x = np.linspace(0,1,100)\n",
    "x1 = np.linspace(0,0.5,50)\n",
    "x2 = np.linspace(0.5,1,50)\n",
    "z = np.zeros(50)\n",
    "y = x*(x**2-3*x+3)/6\n",
    "\n",
    "\n",
    "#N = [[1-x1,z],[2*x1,(2-2*x2)],[z,2*x2-1]]\n",
    "Ns = [np.concatenate((1-x1,z), axis=0),np.concatenate((2*x1,(2-2*x2)), axis=0),np.concatenate((z,2*x2-1), axis=0)]\n",
    "k = np.matrix([[-2,2,0],[2,0,2],[0,-2,2]])\n",
    "f = np.array([5/24,1/4,1/24])\n",
    "phi = np.linalg.solve(k,f)\n",
    "\n",
    "phiT = np.zeros(100)\n",
    "\n",
    "for i,v in enumerate(Ns):\n",
    "    phiT += phi[i]*v\n",
    "\n",
    "\n",
    "plt.plot(x,y)\n",
    "plt.plot(x,phiT)\n",
    "plt.show()\n"
   ]
  },
  {
   "cell_type": "markdown",
   "metadata": {},
   "source": [
    "# Exercise 3.2"
   ]
  },
  {
   "cell_type": "code",
   "execution_count": null,
   "metadata": {},
   "outputs": [],
   "source": [
    "def S(x):\n",
    "    return 1-x\n",
    "\n",
    "def stiffness(nodes):\n",
    "    return 1/(nodes[-1]-nodes[0])*np.array([[1,-1],[-1,1]])\n",
    "\n",
    "def force(nodes,S):\n",
    "    return ((nodes[-1]-nodes[0])/6)*np.array([2*S(nodes[0])+S(nodes[-1]),S(nodes[0])+2*S(nodes[-1])])\n",
    "\n",
    "def solver(S,Ne,alpha,beta,even_grid=True):\n",
    "    if even_grid:\n",
    "        nodes=np.linspace(0,1,Ne+1)\n",
    "    else:\n",
    "        nodes = np.array([0, *sorted(np.random.rand(Ne-1)), 1])\n",
    "\n",
    "    LM = np.zeros((2, Ne), dtype=np.int64)\n",
    "    for e in range(Ne):\n",
    "        if e==0:\n",
    "            LM[0, e] = -1\n",
    "            LM[1, e] = 0\n",
    "        else:\n",
    "            LM[0, e] = LM[1, e-1]\n",
    "            LM[1, e] = LM[0, e] + 1\n",
    "\n",
    "    K = np.zeros((Ne, Ne))\n",
    "    F = np.zeros((Ne,))\n",
    "\n",
    "    for e in range(Ne):\n",
    "        k_e = stiffness(nodes[e:e+2])\n",
    "        f_e = force(nodes[e:e+2],S)\n",
    "        \n",
    "        for a in range(2):\n",
    "            A = LM[a, e]\n",
    "            \n",
    "            for b in range(2):\n",
    "                B = LM[b, e]\n",
    "                if (A >= 0) and (B >= 0):\n",
    "                    K[A, B] += k_e[a, b]\n",
    "            if (A >= 0):\n",
    "                F[A] += f_e[a]\n",
    "        # Modify force vector for Dirichlet BC\n",
    "        if e == 0:\n",
    "            F[0] -= alpha * k_e[1, 0]\n",
    "    # Modify force vector for Neumann BC\n",
    "    F[-1] += beta\n",
    "    # Solve\n",
    "    Psi_A = np.zeros_like(nodes)\n",
    "    Psi_A[0] = alpha\n",
    "    Psi_A[1:] = np.linalg.solve(K, F)\n",
    "\n",
    "    # print(F)\n",
    "    # print(K)\n",
    "\n",
    "    return nodes, Psi_A\n",
    "\n",
    "def linear(x,m,c):\n",
    "    return m*x+c\n",
    "\n",
    "def L2_norm_error(pred,aim,x):\n",
    "    return np.sqrt(((pred[-1]-aim(x))**2))/np.sqrt((aim(x)**2))\n",
    "\n",
    "def order_of_convergence(analytical,S,alpha,beta,Ns=[10,40,80,160]):\n",
    "    Psis=[]\n",
    "    L2_norms=[]\n",
    "    Ns=np.array(Ns)\n",
    "    for N in Ns:\n",
    "        nodes,Psi_N=solver(S,N,alpha,beta)\n",
    "        Psis.append(Psi_N)\n",
    "        L2_norms.append(L2_norm_error(Psi_N,analytical,nodes[-1]))\n",
    "    \n",
    "    m,c=np.polyfit(np.log(Ns),np.log(L2_norms),1)\n",
    "\n",
    "    plt.loglog(Ns,(m*Ns)/5E15,'o-',label='m='+str(round(m,3)))\n",
    "    plt.loglog(Ns,L2_norms,'o-',label='L2 error')\n",
    "    plt.legend()\n",
    "    plt.grid(which='both',alpha=.6)\n",
    "    plt.show()\n"
   ]
  },
  {
   "cell_type": "code",
   "execution_count": null,
   "metadata": {},
   "outputs": [],
   "source": [
    "def ana(x):\n",
    "    return x*(x**2-3*x+3)/6\n",
    "\n",
    "alpha=0\n",
    "beta=0\n",
    "Ne = 10\n",
    "x,y=solver(S,Ne,alpha,beta)\n",
    "\n",
    "x_ana=np.linspace(0,1,100)\n",
    "y_ana=ana(x_ana)\n",
    "plt.plot(x_ana,y_ana,label='analytical')\n",
    "plt.plot(x,y,'o-',label='even grid')\n",
    "\n",
    "x,y=solver(S,Ne,alpha,beta,False)\n",
    "plt.plot(x,y,'o-',label='uneven grid')\n",
    "\n",
    "plt.legend()\n",
    "plt.show()\n",
    "\n",
    "order_of_convergence(ana,S,alpha,beta)"
   ]
  },
  {
   "cell_type": "code",
   "execution_count": null,
   "metadata": {},
   "outputs": [],
   "source": [
    "def ana1(x):\n",
    "    return x*(4-6*x+4*x**2-x**3)/12\n",
    "\n",
    "x_ana=np.linspace(0,1,100)\n",
    "y_ana=x_ana*(4-6*x_ana+4*x_ana**2-x_ana**3)/12\n",
    "\n",
    "def S1(x):\n",
    "    return (1-x)**2\n",
    "\n",
    "alpha=0\n",
    "beta=0\n",
    "Ne = 10\n",
    "x,y=solver(S1,Ne,alpha,beta)\n",
    "\n",
    "plt.plot(x_ana,y_ana,label='analytical')\n",
    "plt.plot(x,y,'o-',label='even grid')\n",
    "\n",
    "x,y=solver(S1,Ne,alpha,beta,False)\n",
    "plt.plot(x,y,'o-',label='uneven grid')\n",
    "\n",
    "plt.legend()\n",
    "plt.show()\n",
    "\n",
    "order_of_convergence(ana1,S1,alpha,beta)"
   ]
  },
  {
   "cell_type": "code",
   "execution_count": null,
   "metadata": {},
   "outputs": [],
   "source": [
    "x_ana=np.linspace(0,1,100)\n",
    "y_ana=np.zeros(len(x_ana))\n",
    "\n",
    "def psi_ana(x):\n",
    "    if x<.25:\n",
    "        return .3*x+.1\n",
    "    elif .25<x<.75:\n",
    "        return -.5*x**2+.55*x+11/160\n",
    "    elif x>.75:\n",
    "        return -.2*x+.35\n",
    "    \n",
    "for i,v in enumerate(x_ana):\n",
    "    y_ana[i]=psi_ana(v)\n",
    "\n",
    "def S2(x):\n",
    "    if abs(x-.5)<.25:\n",
    "        return 1\n",
    "    else:\n",
    "        return 0\n",
    "\n",
    "alpha=.1\n",
    "beta=-.2\n",
    "Ne = 30\n",
    "x,y=solver(S2,Ne,alpha,beta)\n",
    "\n",
    "plt.plot(x_ana,y_ana,label='analytical')\n",
    "plt.plot(x,y,'o-',label='even grid')\n",
    "\n",
    "x,y=solver(S2,Ne,alpha,beta,False)\n",
    "plt.plot(x,y,'o-',label='uneven grid')\n",
    "\n",
    "plt.legend()\n",
    "plt.show()\n",
    "\n",
    "order_of_convergence(psi_ana,S2,alpha,beta)"
   ]
  },
  {
   "cell_type": "markdown",
   "metadata": {},
   "source": [
    "# 4.3 Algorithm"
   ]
  },
  {
   "cell_type": "code",
   "execution_count": 1,
   "metadata": {},
   "outputs": [],
   "source": [
    "def stiffness_2d(nodes):\n",
    "    return 1/(nodes[-1]-nodes[0])*np.array([[1,-1,1],[-1,1,-1],[1,-1,1]])\n",
    "\n",
    "def force_2d(nodes,S):\n",
    "    return"
   ]
  },
  {
   "cell_type": "code",
   "execution_count": 3,
   "metadata": {},
   "outputs": [
    {
     "data": {
      "text/plain": [
       "array([[0.66666667, 0.16666667, 0.16666667],\n",
       "       [0.16666667, 0.66666667, 0.16666667],\n",
       "       [0.16666667, 0.16666667, 0.66666667]])"
      ]
     },
     "execution_count": 3,
     "metadata": {},
     "output_type": "execute_result"
    }
   ],
   "source": [
    "def shape_functions(xi):\n",
    "    return np.array([1-xi[0]-xi[1], xi[0], xi[1]])\n",
    "\n",
    "xi=np.array([[1/6,4/6,1/6],[1/6,1/6,4/6]])\n",
    "shape_functions(xi)"
   ]
  },
  {
   "cell_type": "code",
   "execution_count": 4,
   "metadata": {},
   "outputs": [
    {
     "data": {
      "text/plain": [
       "array([[-1,  1,  0],\n",
       "       [-1,  0,  1]])"
      ]
     },
     "execution_count": 4,
     "metadata": {},
     "output_type": "execute_result"
    }
   ],
   "source": [
    "def div_xi_shape_functions():\n",
    "    return np.array([[-1,1,0],[-1,0,1]])\n",
    "\n",
    "div_xi_shape_functions()"
   ]
  },
  {
   "cell_type": "code",
   "execution_count": 5,
   "metadata": {},
   "outputs": [
    {
     "data": {
      "text/plain": [
       "array([9., 1.])"
      ]
     },
     "execution_count": 5,
     "metadata": {},
     "output_type": "execute_result"
    }
   ],
   "source": [
    "def global_x(xi,nodal_x):\n",
    "    x=np.zeros(2)\n",
    "    N=shape_functions(xi)\n",
    "    for i in range(2):\n",
    "        for j in range(3):\n",
    "            x[i]+=nodal_x[i,j]*N[j]\n",
    "    return x\n",
    "\n",
    "global_x([1,1],np.array([[1,9,1],[1,1,1]]))"
   ]
  },
  {
   "cell_type": "code",
   "execution_count": 44,
   "metadata": {},
   "outputs": [],
   "source": [
    "def test_local2globalCoords():\n",
    "    \n",
    "    default = {\n",
    "                \"xe\": np.array([[0, 0, 1],\n",
    "                               [0, 1, 0]]),\n",
    "                \"ans\": np.array([0.5, 0.5])\n",
    "              }\n",
    "    \n",
    "    translated = {\n",
    "                \"xe\": np.array([[1, 1, 2],\n",
    "                               [0, 1, 0]]),\n",
    "                \"ans\": np.array([1.5, 0.5])\n",
    "                 }\n",
    "    \n",
    "    scaled = {\n",
    "                \"xe\": np.array([[0, 0, 2],\n",
    "                               [0, 2, 0]]),\n",
    "                \"ans\": np.array([1, 1])\n",
    "             }\n",
    "    \n",
    "    rotated = {\n",
    "                \"xe\": np.array([[1, 0, 1],\n",
    "                               [1, 1, 0]]),\n",
    "                \"ans\": np.array([0.5, 0.5])\n",
    "              }\n",
    "    \n",
    "    xi = np.array([0.5, 0.5])\n",
    "    \n",
    "    for t in [default, translated, scaled, rotated]:\n",
    "        assert np.allclose(global_x(xi,t[\"xe\"]),t[\"ans\"]), f\"element\\n {t['xe']} is broken\""
   ]
  },
  {
   "cell_type": "code",
   "execution_count": 27,
   "metadata": {},
   "outputs": [
    {
     "data": {
      "text/plain": [
       "array([[8., 0.],\n",
       "       [8., 0.]])"
      ]
     },
     "execution_count": 27,
     "metadata": {},
     "output_type": "execute_result"
    }
   ],
   "source": [
    "def jacobian(nodal_x):\n",
    "    J=np.zeros([2,2])\n",
    "    for a in range(2): #x or y\n",
    "        for b in range(2): #xi 1 or 2\n",
    "            for c in range(3): #x^e 1, 2 or 3\n",
    "                J[a,b]+=nodal_x[a,c]*div_xi_shape_functions()[b,c]\n",
    "    return J \n",
    "\n",
    "jacobian(np.array([[1,9,1],[1,9,1]]))"
   ]
  },
  {
   "cell_type": "code",
   "execution_count": 28,
   "metadata": {},
   "outputs": [],
   "source": [
    "def test_jacobian():\n",
    "      \n",
    "    default = {\n",
    "                \"xe\": np.array([[0, 0, 1],\n",
    "                               [0, 1, 0]]),\n",
    "                \"ans\": np.array([[0, 1],\n",
    "                                 [1, 0]])\n",
    "              }\n",
    "    \n",
    "    translated = {\n",
    "                \"xe\": np.array([[1, 1, 2],\n",
    "                               [0, 1, 0]]),\n",
    "                \"ans\": np.array([[0, 1],\n",
    "                                 [1, 0]])\n",
    "                 }\n",
    "    \n",
    "    scaled = {\n",
    "                \"xe\": np.array([[0, 0, 2],\n",
    "                               [0, 2, 0]]),\n",
    "                \"ans\": np.array([[0, 2],\n",
    "                                 [2, 0]])\n",
    "             }\n",
    "    \n",
    "    rotated = {\n",
    "                \"xe\": np.array([[1, 0, 1],\n",
    "                               [1, 1, 0]]),\n",
    "                \"ans\": np.array([[-1, 0],\n",
    "                                 [0, -1]])\n",
    "              }\n",
    "    \n",
    "    for t in [default, translated, scaled, rotated]:\n",
    "        assert np.allclose(jacobian(t[\"xe\"]),t[\"ans\"]), f\"element\\n {t['xe']} is broken\""
   ]
  },
  {
   "cell_type": "code",
   "execution_count": 29,
   "metadata": {},
   "outputs": [
    {
     "data": {
      "text/plain": [
       "np.float64(0.0)"
      ]
     },
     "execution_count": 29,
     "metadata": {},
     "output_type": "execute_result"
    }
   ],
   "source": [
    "def det_J(J):\n",
    "    return J[0,0]*J[1,1]-J[0,1]*J[1,0]\n",
    "\n",
    "det_J(jacobian(np.array([[1,9,1],[1,1,1]])))"
   ]
  },
  {
   "cell_type": "code",
   "execution_count": 139,
   "metadata": {},
   "outputs": [],
   "source": [
    "def div_x_shape_functions(x):\n",
    "    dNxi=div_xi_shape_functions()\n",
    "    J_inv=np.linalg.inv(jacobian(x))\n",
    "    return J_inv.T@dNxi\n"
   ]
  },
  {
   "cell_type": "code",
   "execution_count": 128,
   "metadata": {},
   "outputs": [],
   "source": [
    "def integrate_psi(psi):\n",
    "    inte_psi=0\n",
    "    xi=np.array([[1/6,4/6,1/6],[1/6,1/6,4/6]])\n",
    "    for j in range(3):\n",
    "        inte_psi+=psi(xi[:,j])\n",
    "    return inte_psi/6"
   ]
  },
  {
   "cell_type": "code",
   "execution_count": null,
   "metadata": {},
   "outputs": [],
   "source": [
    "def integrate_phi(phi,x_nodal):\n",
    "    xi=np.array([[1/6,4/6,1/6],[1/6,1/6,4/6]])\n",
    "    detJ=abs(det_J(jacobian(x_nodal)))\n",
    "    integrand = lambda xi: detJ*phi(global_x(xi,x_nodal))\n",
    "    return integrate_psi(integrand)"
   ]
  },
  {
   "cell_type": "code",
   "execution_count": 130,
   "metadata": {},
   "outputs": [],
   "source": [
    "def test_localQuadtrature():\n",
    "    \n",
    "    constant = {\n",
    "             \"psi\": lambda x: 1,\n",
    "             \"ans\": 0.5 \n",
    "             } \n",
    "    \n",
    "    linearx = {\n",
    "             \"psi\": lambda x: 6*x[0],\n",
    "             \"ans\": 1,\n",
    "             }\n",
    "    \n",
    "    lineary = {\n",
    "             \"psi\": lambda x: x[1],\n",
    "             \"ans\": 1/6,\n",
    "             }\n",
    "    \n",
    "    product = {\n",
    "             \"psi\": lambda x: x[0]*x[1],\n",
    "             \"ans\": 1/24,\n",
    "             }\n",
    "    for t in [constant, linearx, lineary, product]:\n",
    "        assert np.allclose(integrate_psi(t[\"psi\"]),t[\"ans\"]), f\"ans\\n {t['ans']} is broken\"\n",
    "\n",
    "test_localQuadtrature()"
   ]
  },
  {
   "cell_type": "code",
   "execution_count": 131,
   "metadata": {},
   "outputs": [],
   "source": [
    "def test_globalQuadrature():   \n",
    "    \n",
    "    translated_linear = {\n",
    "             \"xe\": np.array([[1., 1., 2.],\n",
    "                            [0., 1., 0.]]),\n",
    "             \"phi\": lambda x: 3*x[0],\n",
    "             \"ans\": 2,\n",
    "                        }\n",
    "    \n",
    "    translated_product = {\n",
    "             \"xe\": np.array([[1., 1., 2.],\n",
    "                            [0., 1., 0.]]),\n",
    "             \"phi\": lambda x: x[0]*x[1],\n",
    "             \"ans\": 5/24,\n",
    "                         }\n",
    "    \n",
    "    scaled_linear = {\n",
    "             \"xe\": np.array([[0., 0., 2.],\n",
    "                           [0., 2., 0.]]),\n",
    "             \"phi\": lambda x: 3*x[0],\n",
    "             \"ans\": 4,\n",
    "                     }\n",
    "    \n",
    "    scaled_product = {\n",
    "             \"xe\": np.array([[0, 0, 2],\n",
    "                           [0, 2, 0]]),\n",
    "             \"phi\": lambda x: x[0]*x[1],\n",
    "             \"ans\": 2/3,\n",
    "                     }\n",
    "    \n",
    "    rotated_linear = {\n",
    "             \"xe\": np.array([[1, 0, 1],\n",
    "                           [1, 1, 0]]),\n",
    "             \"phi\": lambda x: 3*x[0],\n",
    "             \"ans\": 1,\n",
    "                     }\n",
    "    \n",
    "    rotated_product = {\n",
    "             \"xe\": np.array([[1, 0, 1],\n",
    "                           [1, 1, 0]]),\n",
    "             \"phi\": lambda x: x[0]*x[1],\n",
    "             \"ans\": 5/24,\n",
    "                     }\n",
    "\n",
    "    for t in [translated_linear, translated_product, scaled_linear, scaled_product,\n",
    "              rotated_linear, rotated_product]:\n",
    "        assert np.allclose(integrate_phi(t[\"phi\"],t[\"xe\"]),t[\"ans\"]), f\"element\\n {t['xe']} and/or function {t['phi']} is broken\"\n",
    "\n",
    "test_globalQuadrature()"
   ]
  },
  {
   "cell_type": "code",
   "execution_count": null,
   "metadata": {},
   "outputs": [],
   "source": [
    "#need the jacobian somewhere?\n",
    "\n",
    "def stiffness_2d(nodes):\n",
    "    div = div_x_shape_functions(nodes)\n",
    "    #return (div[0,0]*div[0,1]+div[1,0]*div[1,1])*(det_J(jacobian(nodes)))\n",
    "    k=np.zeros([3,3])\n",
    "    for i in range(3):\n",
    "        for j in range(3):\n",
    "            phi = lambda x: div[0,i]*div[0,j]+div[1,i]*div[1,j]\n",
    "            k[i,j] = integrate_phi(phi, nodes)\n",
    "    return k"
   ]
  },
  {
   "cell_type": "code",
   "execution_count": 147,
   "metadata": {},
   "outputs": [
    {
     "ename": "IndexError",
     "evalue": "index 2 is out of bounds for axis 1 with size 2",
     "output_type": "error",
     "traceback": [
      "\u001b[0;31m---------------------------------------------------------------------------\u001b[0m",
      "\u001b[0;31mIndexError\u001b[0m                                Traceback (most recent call last)",
      "Cell \u001b[0;32mIn[147], line 37\u001b[0m\n\u001b[1;32m     34\u001b[0m     \u001b[38;5;28;01mfor\u001b[39;00m t \u001b[38;5;129;01min\u001b[39;00m [default, translated, scaled, rotated]:\n\u001b[1;32m     35\u001b[0m         \u001b[38;5;28;01massert\u001b[39;00m np\u001b[38;5;241m.\u001b[39mallclose(stiffness_2d(t[\u001b[38;5;124m\"\u001b[39m\u001b[38;5;124mxe\u001b[39m\u001b[38;5;124m\"\u001b[39m]),t[\u001b[38;5;124m\"\u001b[39m\u001b[38;5;124mans\u001b[39m\u001b[38;5;124m\"\u001b[39m]), \u001b[38;5;124mf\u001b[39m\u001b[38;5;124m\"\u001b[39m\u001b[38;5;124melement\u001b[39m\u001b[38;5;130;01m\\n\u001b[39;00m\u001b[38;5;124m \u001b[39m\u001b[38;5;132;01m{\u001b[39;00mt[\u001b[38;5;124m'\u001b[39m\u001b[38;5;124mxe\u001b[39m\u001b[38;5;124m'\u001b[39m]\u001b[38;5;132;01m}\u001b[39;00m\u001b[38;5;124m is broken\u001b[39m\u001b[38;5;124m\"\u001b[39m\n\u001b[0;32m---> 37\u001b[0m \u001b[43mtest_stiffness\u001b[49m\u001b[43m(\u001b[49m\u001b[43m)\u001b[49m\n",
      "Cell \u001b[0;32mIn[147], line 35\u001b[0m, in \u001b[0;36mtest_stiffness\u001b[0;34m()\u001b[0m\n\u001b[1;32m     26\u001b[0m rotated \u001b[38;5;241m=\u001b[39m {\n\u001b[1;32m     27\u001b[0m             \u001b[38;5;124m\"\u001b[39m\u001b[38;5;124mxe\u001b[39m\u001b[38;5;124m\"\u001b[39m: np\u001b[38;5;241m.\u001b[39marray([[\u001b[38;5;241m1\u001b[39m, \u001b[38;5;241m0\u001b[39m, \u001b[38;5;241m1\u001b[39m],\n\u001b[1;32m     28\u001b[0m                             [\u001b[38;5;241m1\u001b[39m, \u001b[38;5;241m1\u001b[39m, \u001b[38;5;241m0\u001b[39m]]),\n\u001b[0;32m   (...)\u001b[0m\n\u001b[1;32m     31\u001b[0m                              [\u001b[38;5;241m-\u001b[39m\u001b[38;5;241m0.5\u001b[39m, \u001b[38;5;241m0\u001b[39m, \u001b[38;5;241m0.5\u001b[39m]])\n\u001b[1;32m     32\u001b[0m           }\n\u001b[1;32m     34\u001b[0m \u001b[38;5;28;01mfor\u001b[39;00m t \u001b[38;5;129;01min\u001b[39;00m [default, translated, scaled, rotated]:\n\u001b[0;32m---> 35\u001b[0m     \u001b[38;5;28;01massert\u001b[39;00m np\u001b[38;5;241m.\u001b[39mallclose(\u001b[43mstiffness_2d\u001b[49m\u001b[43m(\u001b[49m\u001b[43mt\u001b[49m\u001b[43m[\u001b[49m\u001b[38;5;124;43m\"\u001b[39;49m\u001b[38;5;124;43mxe\u001b[39;49m\u001b[38;5;124;43m\"\u001b[39;49m\u001b[43m]\u001b[49m\u001b[43m)\u001b[49m,t[\u001b[38;5;124m\"\u001b[39m\u001b[38;5;124mans\u001b[39m\u001b[38;5;124m\"\u001b[39m]), \u001b[38;5;124mf\u001b[39m\u001b[38;5;124m\"\u001b[39m\u001b[38;5;124melement\u001b[39m\u001b[38;5;130;01m\\n\u001b[39;00m\u001b[38;5;124m \u001b[39m\u001b[38;5;132;01m{\u001b[39;00mt[\u001b[38;5;124m'\u001b[39m\u001b[38;5;124mxe\u001b[39m\u001b[38;5;124m'\u001b[39m]\u001b[38;5;132;01m}\u001b[39;00m\u001b[38;5;124m is broken\u001b[39m\u001b[38;5;124m\"\u001b[39m\n",
      "Cell \u001b[0;32mIn[146], line 8\u001b[0m, in \u001b[0;36mstiffness_2d\u001b[0;34m(nodes)\u001b[0m\n\u001b[1;32m      6\u001b[0m     \u001b[38;5;28;01mfor\u001b[39;00m j \u001b[38;5;129;01min\u001b[39;00m \u001b[38;5;28mrange\u001b[39m(\u001b[38;5;241m3\u001b[39m):\n\u001b[1;32m      7\u001b[0m         phi \u001b[38;5;241m=\u001b[39m \u001b[38;5;28;01mlambda\u001b[39;00m x: div[\u001b[38;5;241m0\u001b[39m,i]\u001b[38;5;241m*\u001b[39mdiv[\u001b[38;5;241m0\u001b[39m,j]\u001b[38;5;241m+\u001b[39mdiv[\u001b[38;5;241m1\u001b[39m,i]\u001b[38;5;241m*\u001b[39mdiv[\u001b[38;5;241m1\u001b[39m,j]\n\u001b[0;32m----> 8\u001b[0m         k[i,j] \u001b[38;5;241m=\u001b[39m \u001b[43mintegrate_phi\u001b[49m\u001b[43m(\u001b[49m\u001b[43mphi\u001b[49m\u001b[43m,\u001b[49m\u001b[43m \u001b[49m\u001b[43mnodes\u001b[49m\u001b[43m)\u001b[49m\n\u001b[1;32m     10\u001b[0m \u001b[38;5;28;01mreturn\u001b[39;00m k\n",
      "Cell \u001b[0;32mIn[129], line 5\u001b[0m, in \u001b[0;36mintegrate_phi\u001b[0;34m(phi, x_nodal)\u001b[0m\n\u001b[1;32m      3\u001b[0m detJ\u001b[38;5;241m=\u001b[39m\u001b[38;5;28mabs\u001b[39m(det_J(jacobian(x_nodal)))\n\u001b[1;32m      4\u001b[0m integrand \u001b[38;5;241m=\u001b[39m \u001b[38;5;28;01mlambda\u001b[39;00m xi: detJ\u001b[38;5;241m*\u001b[39mphi(global_x(xi,x_nodal ))\n\u001b[0;32m----> 5\u001b[0m \u001b[38;5;28;01mreturn\u001b[39;00m \u001b[43mintegrate_psi\u001b[49m\u001b[43m(\u001b[49m\u001b[43mintegrand\u001b[49m\u001b[43m)\u001b[49m\n",
      "Cell \u001b[0;32mIn[128], line 5\u001b[0m, in \u001b[0;36mintegrate_psi\u001b[0;34m(psi)\u001b[0m\n\u001b[1;32m      3\u001b[0m xi\u001b[38;5;241m=\u001b[39mnp\u001b[38;5;241m.\u001b[39marray([[\u001b[38;5;241m1\u001b[39m\u001b[38;5;241m/\u001b[39m\u001b[38;5;241m6\u001b[39m,\u001b[38;5;241m4\u001b[39m\u001b[38;5;241m/\u001b[39m\u001b[38;5;241m6\u001b[39m,\u001b[38;5;241m1\u001b[39m\u001b[38;5;241m/\u001b[39m\u001b[38;5;241m6\u001b[39m],[\u001b[38;5;241m1\u001b[39m\u001b[38;5;241m/\u001b[39m\u001b[38;5;241m6\u001b[39m,\u001b[38;5;241m1\u001b[39m\u001b[38;5;241m/\u001b[39m\u001b[38;5;241m6\u001b[39m,\u001b[38;5;241m4\u001b[39m\u001b[38;5;241m/\u001b[39m\u001b[38;5;241m6\u001b[39m]])\n\u001b[1;32m      4\u001b[0m \u001b[38;5;28;01mfor\u001b[39;00m j \u001b[38;5;129;01min\u001b[39;00m \u001b[38;5;28mrange\u001b[39m(\u001b[38;5;241m3\u001b[39m):\n\u001b[0;32m----> 5\u001b[0m     inte_psi\u001b[38;5;241m+\u001b[39m\u001b[38;5;241m=\u001b[39m\u001b[43mpsi\u001b[49m\u001b[43m(\u001b[49m\u001b[43mxi\u001b[49m\u001b[43m[\u001b[49m\u001b[43m:\u001b[49m\u001b[43m,\u001b[49m\u001b[43mj\u001b[49m\u001b[43m]\u001b[49m\u001b[43m)\u001b[49m\n\u001b[1;32m      6\u001b[0m \u001b[38;5;28;01mreturn\u001b[39;00m inte_psi\u001b[38;5;241m/\u001b[39m\u001b[38;5;241m6\u001b[39m\n",
      "Cell \u001b[0;32mIn[129], line 4\u001b[0m, in \u001b[0;36mintegrate_phi.<locals>.<lambda>\u001b[0;34m(xi)\u001b[0m\n\u001b[1;32m      2\u001b[0m xi\u001b[38;5;241m=\u001b[39mnp\u001b[38;5;241m.\u001b[39marray([[\u001b[38;5;241m1\u001b[39m\u001b[38;5;241m/\u001b[39m\u001b[38;5;241m6\u001b[39m,\u001b[38;5;241m4\u001b[39m\u001b[38;5;241m/\u001b[39m\u001b[38;5;241m6\u001b[39m,\u001b[38;5;241m1\u001b[39m\u001b[38;5;241m/\u001b[39m\u001b[38;5;241m6\u001b[39m],[\u001b[38;5;241m1\u001b[39m\u001b[38;5;241m/\u001b[39m\u001b[38;5;241m6\u001b[39m,\u001b[38;5;241m1\u001b[39m\u001b[38;5;241m/\u001b[39m\u001b[38;5;241m6\u001b[39m,\u001b[38;5;241m4\u001b[39m\u001b[38;5;241m/\u001b[39m\u001b[38;5;241m6\u001b[39m]])\n\u001b[1;32m      3\u001b[0m detJ\u001b[38;5;241m=\u001b[39m\u001b[38;5;28mabs\u001b[39m(det_J(jacobian(x_nodal)))\n\u001b[0;32m----> 4\u001b[0m integrand \u001b[38;5;241m=\u001b[39m \u001b[38;5;28;01mlambda\u001b[39;00m xi: detJ\u001b[38;5;241m*\u001b[39m\u001b[43mphi\u001b[49m\u001b[43m(\u001b[49m\u001b[43mglobal_x\u001b[49m\u001b[43m(\u001b[49m\u001b[43mxi\u001b[49m\u001b[43m,\u001b[49m\u001b[43mx_nodal\u001b[49m\u001b[43m \u001b[49m\u001b[43m)\u001b[49m\u001b[43m)\u001b[49m\n\u001b[1;32m      5\u001b[0m \u001b[38;5;28;01mreturn\u001b[39;00m integrate_psi(integrand)\n",
      "Cell \u001b[0;32mIn[146], line 7\u001b[0m, in \u001b[0;36mstiffness_2d.<locals>.<lambda>\u001b[0;34m(x)\u001b[0m\n\u001b[1;32m      5\u001b[0m \u001b[38;5;28;01mfor\u001b[39;00m i \u001b[38;5;129;01min\u001b[39;00m \u001b[38;5;28mrange\u001b[39m(\u001b[38;5;241m3\u001b[39m):\n\u001b[1;32m      6\u001b[0m     \u001b[38;5;28;01mfor\u001b[39;00m j \u001b[38;5;129;01min\u001b[39;00m \u001b[38;5;28mrange\u001b[39m(\u001b[38;5;241m3\u001b[39m):\n\u001b[0;32m----> 7\u001b[0m         phi \u001b[38;5;241m=\u001b[39m \u001b[38;5;28;01mlambda\u001b[39;00m x: div[\u001b[38;5;241m0\u001b[39m,i]\u001b[38;5;241m*\u001b[39m\u001b[43mdiv\u001b[49m\u001b[43m[\u001b[49m\u001b[38;5;241;43m0\u001b[39;49m\u001b[43m,\u001b[49m\u001b[43mj\u001b[49m\u001b[43m]\u001b[49m\u001b[38;5;241m+\u001b[39mdiv[\u001b[38;5;241m1\u001b[39m,i]\u001b[38;5;241m*\u001b[39mdiv[\u001b[38;5;241m1\u001b[39m,j]\n\u001b[1;32m      8\u001b[0m         k[i,j] \u001b[38;5;241m=\u001b[39m integrate_phi(phi, nodes)\n\u001b[1;32m     10\u001b[0m \u001b[38;5;28;01mreturn\u001b[39;00m k\n",
      "\u001b[0;31mIndexError\u001b[0m: index 2 is out of bounds for axis 1 with size 2"
     ]
    }
   ],
   "source": [
    "def test_stiffness():\n",
    "\n",
    "    default = {\n",
    "                \"xe\": np.array([[0, 0, 1],\n",
    "                                [0, 1, 0]]),\n",
    "                \"ans\": np.array([[1, -0.5, -0.5],\n",
    "                                 [-0.5, 0.5, 0],\n",
    "                                 [-0.5, 0, 0.5]])\n",
    "              }\n",
    "    \n",
    "    translated = {\n",
    "                \"xe\": np.array([[1, 1, 2],\n",
    "                                [0, 1, 0]]),\n",
    "                \"ans\": np.array([[1, -0.5, -0.5],\n",
    "                                 [-0.5, 0.5, 0],\n",
    "                                 [-0.5, 0, 0.5]])\n",
    "                 }\n",
    "    \n",
    "    scaled = {\n",
    "                \"xe\": np.array([[0, 0, 2],\n",
    "                                [0, 2, 0]]),\n",
    "                \"ans\": np.array([[1, -0.5, -0.5],\n",
    "                                 [-0.5, 0.5, 0],\n",
    "                                 [-0.5, 0, 0.5]])\n",
    "            }\n",
    "    rotated = {\n",
    "                \"xe\": np.array([[1, 0, 1],\n",
    "                                [1, 1, 0]]),\n",
    "                \"ans\": np.array([[1, -0.5, -0.5],\n",
    "                                 [-0.5, 0.5, 0],\n",
    "                                 [-0.5, 0, 0.5]])\n",
    "              }\n",
    "    \n",
    "    for t in [default, translated, scaled, rotated]:\n",
    "        assert np.allclose(stiffness_2d(t[\"xe\"]),t[\"ans\"]), f\"element\\n {t['xe']} is broken\"\n",
    "\n",
    "test_stiffness()"
   ]
  },
  {
   "cell_type": "code",
   "execution_count": null,
   "metadata": {},
   "outputs": [],
   "source": [
    "def force_2d(nodes,S):\n",
    "    xi=np.array([[1/6,4/6,1/6],[1/6,1/6,4/6]])\n",
    "    N = shape_functions(xi)\n",
    "    f = 0\n",
    "    for b in range(2):\n",
    "        f += N[b,:]*S(nodes)*abs(det_J(jacobian(nodes)))\n",
    "    return f\n",
    "\n",
    "def find_F(S):\n",
    "    nodes = np.loadtxt('data/esw_nodes_50k.txt')\n",
    "    IEN = np.loadtxt('data/esw_IEN_50k.txt', \n",
    "                    dtype=np.int64)\n",
    "    boundary_nodes = np.loadtxt('data/esw_bdry_50k.txt', \n",
    "                                dtype=np.int64)\n",
    "    # Make all boundary points Dirichlet\n",
    "    ID = np.zeros(len(nodes), dtype=np.int64)\n",
    "    n_eq = 0\n",
    "    for i in range(len(nodes[:, 1])):\n",
    "        if i in boundary_nodes:\n",
    "            ID[i] = -1\n",
    "        else:\n",
    "            ID[i] = n_eq\n",
    "            n_eq += 1\n",
    "    N_equations = np.max(ID)+1\n",
    "    N_elements = IEN.shape[0]\n",
    "    # Location matrix\n",
    "    LM = np.zeros_like(IEN.T)\n",
    "    for e in range(N_elements):\n",
    "        for a in range(3):\n",
    "            LM[a,e] = ID[IEN[e,a]]\n",
    "    # Global stiffness matrix and force vector\n",
    "    F = np.zeros((N_equations,))\n",
    "    # Loop over elements\n",
    "    for e in range(N_elements):\n",
    "        f_e = force_2d(nodes[IEN[e,:],:], S)\n",
    "        for a in range(3):\n",
    "            A = LM[a, e]\n",
    "            if (A >= 0):\n",
    "                F[A] += f_e[a]"
   ]
  },
  {
   "cell_type": "code",
   "execution_count": null,
   "metadata": {},
   "outputs": [],
   "source": []
  },
  {
   "cell_type": "code",
   "execution_count": 143,
   "metadata": {},
   "outputs": [],
   "source": [
    "def ians_example(S):    \n",
    "    nodes = np.loadtxt('data/esw_nodes_100k.txt')\n",
    "    IEN = np.loadtxt('data/esw_IEN_100k.txt', \n",
    "                    dtype=np.int64)\n",
    "    boundary_nodes = np.loadtxt('data/esw_bdry_100k.txt', \n",
    "                                dtype=np.int64)\n",
    "    # Make all boundary points Dirichlet\n",
    "    ID = np.zeros(len(nodes), dtype=np.int64)\n",
    "    n_eq = 0\n",
    "    for i in range(len(nodes[:, 1])):\n",
    "        if i in boundary_nodes:\n",
    "            ID[i] = -1\n",
    "        else:\n",
    "            ID[i] = n_eq\n",
    "            n_eq += 1\n",
    "    N_equations = np.max(ID)+1\n",
    "    N_elements = IEN.shape[0]\n",
    "    N_nodes = nodes.shape[0]\n",
    "    N_dim = nodes.shape[1]\n",
    "    # Location matrix\n",
    "    LM = np.zeros_like(IEN.T)\n",
    "    for e in range(N_elements):\n",
    "        for a in range(3):\n",
    "            LM[a,e] = ID[IEN[e,a]]\n",
    "    # Global stiffness matrix and force vector\n",
    "    K = np.zeros((N_equations, N_equations))\n",
    "    F = np.zeros((N_equations,))\n",
    "    # Loop over elements\n",
    "    for e in range(N_elements):\n",
    "        k_e = stiffness_2d(nodes[IEN[e,:],:].T)\n",
    "        f_e = force_2d(nodes[IEN[e,:],:].T, S)\n",
    "        for a in range(3):\n",
    "            A = LM[a, e]\n",
    "            for b in range(3):\n",
    "                B = LM[b, e]\n",
    "                if (A >= 0) and (B >= 0):\n",
    "                    K[A, B] += k_e[a, b]\n",
    "            if (A >= 0):\n",
    "                F[A] += f_e[a]\n",
    "    # Solve\n",
    "    Psi_interior = np.linalg.solve(K, F)\n",
    "    Psi_A = np.zeros(N_nodes)\n",
    "    for n in range(N_nodes):\n",
    "        if ID[n] >= 0: # Otherwise Psi should be zero, and we've initialized that already.\n",
    "            Psi_A[n] = Psi_interior[ID[n]]\n",
    "    plt.tripcolor(nodes[:,0], nodes[:,1],Psi_A, triangles=IEN)\n",
    "    # plt.scatter(nodes[:,0], nodes[:,1],c=Psi_A)\n",
    "    #plt.plot(nodes[boundary_nodes, 0], nodes[boundary_nodes, 1], 'ro')\n",
    "    plt.axis('equal')\n",
    "    plt.title('finite difference solver')\n",
    "    plt.show()\n",
    "\n",
    "    return Psi_A"
   ]
  },
  {
   "cell_type": "code",
   "execution_count": 144,
   "metadata": {},
   "outputs": [
    {
     "data": {
      "image/png": "[encoded data removed]",
      "text/plain": [
       "<Figure size 640x480 with 1 Axes>"
      ]
     },
     "metadata": {},
     "output_type": "display_data"
    },
    {
     "data": {
      "image/png": "[encoded data removed]",
      "text/plain": [
       "<Figure size 640x480 with 1 Axes>"
      ]
     },
     "metadata": {},
     "output_type": "display_data"
    }
   ],
   "source": [
    "def source_function(x):\n",
    "    return 1\n",
    "\n",
    "Psi=ians_example(source_function)\n",
    "\n",
    "def psi_analytical(x):\n",
    "    return x*(1-x/2)\n",
    "\n",
    "nodes = np.loadtxt('data/esw_nodes_100k.txt')\n",
    "IEN = np.loadtxt('data/esw_IEN_100k.txt', \n",
    "                    dtype=np.int64)\n",
    "\n",
    "z=psi_analytical(nodes[:,0])\n",
    "\n",
    "plt.tripcolor(nodes[:,0], nodes[:,1],z, triangles=IEN)\n",
    "# plt.scatter(nodes[:,0], nodes[:,1])\n",
    "plt.title('analytical solution')\n",
    "plt.axis('equal')\n",
    "plt.show()"
   ]
  },
  {
   "cell_type": "code",
   "execution_count": 137,
   "metadata": {},
   "outputs": [],
   "source": [
    "def generate_2d_grid(Nx):\n",
    "    Nnodes = Nx+1\n",
    "    x = np.linspace(0, 1, Nnodes)\n",
    "    y = np.linspace(0, 1, Nnodes)\n",
    "    X, Y = np.meshgrid(x,y)\n",
    "    nodes = np.zeros((Nnodes**2,2))\n",
    "    nodes[:,0] = X.ravel()\n",
    "    nodes[:,1] = Y.ravel()\n",
    "    ID = np.zeros(len(nodes), dtype=np.int64)\n",
    "    boundaries = dict() # Will hold the boundary values\n",
    "    n_eq = 0\n",
    "    for nID in range(len(nodes)):\n",
    "        if np.allclose(nodes[nID, 0], 0):\n",
    "            ID[nID] = -1\n",
    "            boundaries[nID] = 0 # Dirichlet BC\n",
    "        else:\n",
    "            ID[nID] = n_eq\n",
    "        n_eq += 1\n",
    "        if ( (np.allclose(nodes[nID, 1], 0)) or (np.allclose(nodes[nID, 0], 1)) or (np.allclose(nodes[nID, 1], 1)) ):\n",
    "            boundaries[nID] = 0 # Neumann BC\n",
    "    IEN = np.zeros((2*Nx**2, 3), dtype=np.int64)\n",
    "    for i in range(Nx):\n",
    "        for j in range(Nx):\n",
    "            IEN[2*i+2*j*Nx , :] = (i+j*Nnodes,\n",
    "                                    i+1+j*Nnodes,\n",
    "                                    i+(j+1)*Nnodes)\n",
    "            IEN[2*i+1+2*j*Nx, :] = (i+1+j*Nnodes,\n",
    "                                    i+1+(j+1)*Nnodes,\n",
    "                                    i+(j+1)*Nnodes)\n",
    "    return nodes, IEN, ID, boundaries"
   ]
  },
  {
   "cell_type": "code",
   "execution_count": 145,
   "metadata": {},
   "outputs": [
    {
     "data": {
      "image/png": "[encoded data removed]",
      "text/plain": [
       "<Figure size 640x480 with 1 Axes>"
      ]
     },
     "metadata": {},
     "output_type": "display_data"
    },
    {
     "data": {
      "image/png": "[encoded data removed]",
      "text/plain": [
       "<Figure size 640x480 with 1 Axes>"
      ]
     },
     "metadata": {},
     "output_type": "display_data"
    }
   ],
   "source": [
    "Nx=8\n",
    "\n",
    "nodes, IEN, ID, boundary_nodes=generate_2d_grid(Nx)\n",
    "\n",
    "n_eq = 0\n",
    "for i in range(len(nodes[:, 1])):\n",
    "    if i in boundary_nodes:\n",
    "        ID[i] = -1\n",
    "    else:\n",
    "        ID[i] = n_eq\n",
    "        n_eq += 1\n",
    "N_equations = np.max(ID)+1\n",
    "N_elements = IEN.shape[0]\n",
    "N_nodes = nodes.shape[0]\n",
    "N_dim = nodes.shape[1]\n",
    "# Location matrix\n",
    "LM = np.zeros_like(IEN.T)\n",
    "for e in range(N_elements):\n",
    "    for a in range(3):\n",
    "        LM[a,e] = ID[IEN[e,a]]\n",
    "# Global stiffness matrix and force vector\n",
    "K = np.zeros((N_equations, N_equations))\n",
    "F = np.zeros((N_equations,))\n",
    "# Loop over elements\n",
    "for e in range(N_elements):\n",
    "    k_e = stiffness_2d(nodes[IEN[e,:],:].T)\n",
    "    f_e = force_2d(nodes[IEN[e,:],:].T, source_function)\n",
    "    for a in range(3):\n",
    "        A = LM[a, e]\n",
    "        for b in range(3):\n",
    "            B = LM[b, e]\n",
    "            if (A >= 0) and (B >= 0):\n",
    "                K[A, B] += k_e[a, b]\n",
    "        if (A >= 0):\n",
    "            F[A] += f_e[a]\n",
    "# Solve\n",
    "Psi_interior = np.linalg.solve(K, F)\n",
    "Psi_A = np.zeros(N_nodes)\n",
    "for n in range(N_nodes):\n",
    "    if ID[n] >= 0: # Otherwise Psi should be zero, and we've initialized that already.\n",
    "        Psi_A[n] = Psi_interior[ID[n]]\n",
    "plt.tripcolor(nodes[:,0], nodes[:,1], Psi_A, triangles=IEN)\n",
    "#plt.scatter(nodes[:,0], nodes[:,1],c=Psi_A)\n",
    "#plt.plot(nodes[boundary_nodes, 0], nodes[boundary_nodes, 1], 'ro')\n",
    "plt.axis('equal')\n",
    "plt.title('finite difference solver')\n",
    "plt.show()\n",
    "\n",
    "z=psi_analytical(nodes[:,0])\n",
    "\n",
    "plt.tripcolor(nodes[:,0], nodes[:,1],z, triangles=IEN)\n",
    "plt.title('analytical solution')\n",
    "plt.axis('equal')\n",
    "plt.show()"
   ]
  },
  {
   "cell_type": "code",
   "execution_count": 116,
   "metadata": {},
   "outputs": [
    {
     "data": {
      "text/plain": [
       "array([[0.   , 0.   ],\n",
       "       [0.125, 0.   ],\n",
       "       [0.25 , 0.   ],\n",
       "       [0.375, 0.   ],\n",
       "       [0.5  , 0.   ],\n",
       "       [0.625, 0.   ],\n",
       "       [0.75 , 0.   ],\n",
       "       [0.875, 0.   ],\n",
       "       [1.   , 0.   ],\n",
       "       [0.   , 0.125],\n",
       "       [0.125, 0.125],\n",
       "       [0.25 , 0.125],\n",
       "       [0.375, 0.125],\n",
       "       [0.5  , 0.125],\n",
       "       [0.625, 0.125],\n",
       "       [0.75 , 0.125],\n",
       "       [0.875, 0.125],\n",
       "       [1.   , 0.125],\n",
       "       [0.   , 0.25 ],\n",
       "       [0.125, 0.25 ],\n",
       "       [0.25 , 0.25 ],\n",
       "       [0.375, 0.25 ],\n",
       "       [0.5  , 0.25 ],\n",
       "       [0.625, 0.25 ],\n",
       "       [0.75 , 0.25 ],\n",
       "       [0.875, 0.25 ],\n",
       "       [1.   , 0.25 ],\n",
       "       [0.   , 0.375],\n",
       "       [0.125, 0.375],\n",
       "       [0.25 , 0.375],\n",
       "       [0.375, 0.375],\n",
       "       [0.5  , 0.375],\n",
       "       [0.625, 0.375],\n",
       "       [0.75 , 0.375],\n",
       "       [0.875, 0.375],\n",
       "       [1.   , 0.375],\n",
       "       [0.   , 0.5  ],\n",
       "       [0.125, 0.5  ],\n",
       "       [0.25 , 0.5  ],\n",
       "       [0.375, 0.5  ],\n",
       "       [0.5  , 0.5  ],\n",
       "       [0.625, 0.5  ],\n",
       "       [0.75 , 0.5  ],\n",
       "       [0.875, 0.5  ],\n",
       "       [1.   , 0.5  ],\n",
       "       [0.   , 0.625],\n",
       "       [0.125, 0.625],\n",
       "       [0.25 , 0.625],\n",
       "       [0.375, 0.625],\n",
       "       [0.5  , 0.625],\n",
       "       [0.625, 0.625],\n",
       "       [0.75 , 0.625],\n",
       "       [0.875, 0.625],\n",
       "       [1.   , 0.625],\n",
       "       [0.   , 0.75 ],\n",
       "       [0.125, 0.75 ],\n",
       "       [0.25 , 0.75 ],\n",
       "       [0.375, 0.75 ],\n",
       "       [0.5  , 0.75 ],\n",
       "       [0.625, 0.75 ],\n",
       "       [0.75 , 0.75 ],\n",
       "       [0.875, 0.75 ],\n",
       "       [1.   , 0.75 ],\n",
       "       [0.   , 0.875],\n",
       "       [0.125, 0.875],\n",
       "       [0.25 , 0.875],\n",
       "       [0.375, 0.875],\n",
       "       [0.5  , 0.875],\n",
       "       [0.625, 0.875],\n",
       "       [0.75 , 0.875],\n",
       "       [0.875, 0.875],\n",
       "       [1.   , 0.875],\n",
       "       [0.   , 1.   ],\n",
       "       [0.125, 1.   ],\n",
       "       [0.25 , 1.   ],\n",
       "       [0.375, 1.   ],\n",
       "       [0.5  , 1.   ],\n",
       "       [0.625, 1.   ],\n",
       "       [0.75 , 1.   ],\n",
       "       [0.875, 1.   ],\n",
       "       [1.   , 1.   ]])"
      ]
     },
     "execution_count": 116,
     "metadata": {},
     "output_type": "execute_result"
    }
   ],
   "source": [
    "nodes#[IEN[0,:],:]"
   ]
  },
  {
   "cell_type": "code",
   "execution_count": null,
   "metadata": {},
   "outputs": [],
   "source": []
  }
 ],
 "metadata": {
  "kernelspec": {
   "display_name": "Python 3",
   "language": "python",
   "name": "python3"
  },
  "language_info": {
   "codemirror_mode": {
    "name": "ipython",
    "version": 3
   },
   "file_extension": ".py",
   "mimetype": "text/x-python",
   "name": "python",
   "nbconvert_exporter": "python",
   "pygments_lexer": "ipython3",
   "version": "3.12.1"
  }
 },
 "nbformat": 4,
 "nbformat_minor": 2
}
